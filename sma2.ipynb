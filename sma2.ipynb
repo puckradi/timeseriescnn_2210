{
 "cells": [
  {
   "cell_type": "code",
   "execution_count": 12,
   "metadata": {},
   "outputs": [],
   "source": [
    "import numpy as np\n",
    "from sklearn.model_selection import train_test_split\n",
    "from sklearn.preprocessing import StandardScaler\n",
    "import time\n",
    "import torch\n",
    "import torch.nn as nn\n",
    "import torch.utils.data as Data\n",
    "import torch.nn.functional as F\n",
    "from sklearn.metrics import roc_auc_score, accuracy_score, precision_score, recall_score, f1_score, classification_report\n",
    "\n"
   ]
  },
  {
   "cell_type": "code",
   "execution_count": 13,
   "metadata": {},
   "outputs": [
    {
     "name": "stdout",
     "output_type": "stream",
     "text": [
      "dataset_1 shape: (64, 2, 8, 68, 245)\n"
     ]
    }
   ],
   "source": [
    "# load dataset\n",
    "dataset_1 = np.load(r'C:\\Users\\taehyun\\Desktop\\KAIST2022\\삼성병원\\Dataset\\patients_si.npy')\n",
    "\n",
    "print('dataset_1 shape:', dataset_1.shape)\n",
    "\n"
   ]
  },
  {
   "cell_type": "code",
   "execution_count": 14,
   "metadata": {},
   "outputs": [
    {
     "name": "stdout",
     "output_type": "stream",
     "text": [
      "We are using cpu now.\n"
     ]
    }
   ],
   "source": [
    "\n",
    "# check if a GPU is available\n",
    "with_gpu = torch.cuda.is_available()\n",
    "if with_gpu:\n",
    "    device = torch.device(\"cuda\")\n",
    "else:\n",
    "    device = torch.device(\"cpu\")\n",
    "print('We are using %s now.' %device)\n",
    "\n"
   ]
  },
  {
   "cell_type": "code",
   "execution_count": 15,
   "metadata": {},
   "outputs": [
    {
     "ename": "IndexError",
     "evalue": "boolean index did not match indexed array along dimension 1; dimension is 2 but corresponding boolean dimension is 8",
     "output_type": "error",
     "traceback": [
      "\u001b[1;31m---------------------------------------------------------------------------\u001b[0m",
      "\u001b[1;31mIndexError\u001b[0m                                Traceback (most recent call last)",
      "\u001b[1;32mc:\\Users\\taehyun\\Desktop\\sma2.ipynb 셀 4\u001b[0m in \u001b[0;36m<cell line: 3>\u001b[1;34m()\u001b[0m\n\u001b[0;32m      <a href='vscode-notebook-cell:/c%3A/Users/taehyun/Desktop/sma2.ipynb#W4sZmlsZQ%3D%3D?line=2'>3</a>\u001b[0m \u001b[39mfor\u001b[39;00m ll \u001b[39min\u001b[39;00m removed_label:\n\u001b[0;32m      <a href='vscode-notebook-cell:/c%3A/Users/taehyun/Desktop/sma2.ipynb#W4sZmlsZQ%3D%3D?line=3'>4</a>\u001b[0m     \u001b[39mid\u001b[39m \u001b[39m=\u001b[39m dataset_1[:, \u001b[39m-\u001b[39m\u001b[39m1\u001b[39m]\u001b[39m!=\u001b[39mll\n\u001b[1;32m----> <a href='vscode-notebook-cell:/c%3A/Users/taehyun/Desktop/sma2.ipynb#W4sZmlsZQ%3D%3D?line=4'>5</a>\u001b[0m     dataset_1 \u001b[39m=\u001b[39m dataset_1[\u001b[39mid\u001b[39;49m]\n",
      "\u001b[1;31mIndexError\u001b[0m: boolean index did not match indexed array along dimension 1; dimension is 2 but corresponding boolean dimension is 8"
     ]
    }
   ],
   "source": [
    "# remove instance with label==10 (rest)\n",
    "removed_label = [2,3,4,5,6,7,8,9,10]  #2,3,4,5,\n",
    "for ll in removed_label:\n",
    "    id = dataset_1[:, -1]!=ll\n",
    "    dataset_1 = dataset_1[id]\n",
    "\n"
   ]
  },
  {
   "cell_type": "code",
   "execution_count": null,
   "metadata": {},
   "outputs": [],
   "source": []
  }
 ],
 "metadata": {
  "kernelspec": {
   "display_name": "Python 3.9.12 ('base')",
   "language": "python",
   "name": "python3"
  },
  "language_info": {
   "codemirror_mode": {
    "name": "ipython",
    "version": 3
   },
   "file_extension": ".py",
   "mimetype": "text/x-python",
   "name": "python",
   "nbconvert_exporter": "python",
   "pygments_lexer": "ipython3",
   "version": "3.9.12"
  },
  "orig_nbformat": 4,
  "vscode": {
   "interpreter": {
    "hash": "0fdf703b68b0851d6d91989b3ff9eba7285e513ef86e301108268d354be42a92"
   }
  }
 },
 "nbformat": 4,
 "nbformat_minor": 2
}
